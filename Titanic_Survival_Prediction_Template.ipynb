{
 "cells": [
  {
   "cell_type": "markdown",
   "id": "fcedc090",
   "metadata": {},
   "source": [
    "# 🚢 Titanic Survival Prediction - ML Project\n",
    "\n",
    "This project predicts passenger survival on the Titanic using a classification model.\n",
    "\n",
    "**Tools:** pandas, sklearn, seaborn, matplotlib\n",
    "\n",
    "**Steps:**\n",
    "- Load and explore the dataset\n",
    "- Handle missing values\n",
    "- Encode categorical variables\n",
    "- Train a classifier (e.g., Logistic Regression)\n",
    "- Evaluate the model\n"
   ]
  },
  {
   "cell_type": "code",
   "execution_count": null,
   "id": "ab6fdcae",
   "metadata": {},
   "outputs": [],
   "source": [
    "# 📥 Step 1: Import Libraries\n",
    "import pandas as pd\n",
    "import numpy as np\n",
    "import seaborn as sns\n",
    "import matplotlib.pyplot as plt\n",
    "from sklearn.model_selection import train_test_split\n",
    "from sklearn.linear_model import LogisticRegression\n",
    "from sklearn.metrics import accuracy_score, confusion_matrix, classification_report\n",
    "sns.set(style='whitegrid')"
   ]
  },
  {
   "cell_type": "code",
   "execution_count": null,
   "id": "b04f2dc6",
   "metadata": {},
   "outputs": [],
   "source": [
    "# 📊 Step 2: Load Dataset\n",
    "# Download from: https://www.kaggle.com/competitions/titanic/data\n",
    "df = pd.read_csv('train.csv')\n",
    "df.head()"
   ]
  },
  {
   "cell_type": "code",
   "execution_count": null,
   "id": "53620566",
   "metadata": {},
   "outputs": [],
   "source": [
    "# 🧼 Step 3: Clean Data\n",
    "# Check missing values\n",
    "df.isnull().sum()\n",
    "# Fill missing Age with median and drop Cabin for simplicity\n",
    "df['Age'].fillna(df['Age'].median(), inplace=True)\n",
    "df.drop(['Cabin', 'Ticket', 'Name'], axis=1, inplace=True)\n",
    "df.dropna(inplace=True)  # Drop rows with remaining missing values"
   ]
  },
  {
   "cell_type": "code",
   "execution_count": null,
   "id": "0b9652db",
   "metadata": {},
   "outputs": [],
   "source": [
    "# 🧠 Step 4: Feature Engineering\n",
    "# Convert categorical to numeric\n",
    "df['Sex'] = df['Sex'].map({'male': 0, 'female': 1})\n",
    "df = pd.get_dummies(df, columns=['Embarked'], drop_first=True)\n",
    "df.head()"
   ]
  },
  {
   "cell_type": "code",
   "execution_count": null,
   "id": "a3588ab9",
   "metadata": {},
   "outputs": [],
   "source": [
    "# 🚂 Step 5: Train/Test Split\n",
    "X = df.drop('Survived', axis=1)\n",
    "y = df['Survived']\n",
    "X_train, X_test, y_train, y_test = train_test_split(X, y, test_size=0.2, random_state=42)"
   ]
  },
  {
   "cell_type": "code",
   "execution_count": null,
   "id": "500971c7",
   "metadata": {},
   "outputs": [],
   "source": [
    "# 📈 Step 6: Train Model\n",
    "model = LogisticRegression(max_iter=200)\n",
    "model.fit(X_train, y_train)\n",
    "y_pred = model.predict(X_test)"
   ]
  },
  {
   "cell_type": "code",
   "execution_count": null,
   "id": "59f5e38c",
   "metadata": {},
   "outputs": [],
   "source": [
    "# 📊 Step 7: Evaluate Model\n",
    "print(\"Accuracy:\", accuracy_score(y_test, y_pred))\n",
    "print(\"\\nConfusion Matrix:\\n\", confusion_matrix(y_test, y_pred))\n",
    "print(\"\\nClassification Report:\\n\", classification_report(y_test, y_pred))"
   ]
  },
  {
   "cell_type": "markdown",
   "id": "7eb3aea6",
   "metadata": {},
   "source": [
    "### ✅ Summary\n",
    "- Model used: Logistic Regression\n",
    "- Features: Age, Sex, Pclass, SibSp, Parch, Fare, Embarked\n",
    "- Evaluation metrics: Accuracy, confusion matrix, classification report"
   ]
  }
 ],
 "metadata": {},
 "nbformat": 4,
 "nbformat_minor": 5
}
